{
 "cells": [
  {
   "cell_type": "markdown",
   "metadata": {},
   "source": [
    "# 크롤링 사이트 확인"
   ]
  },
  {
   "cell_type": "code",
   "execution_count": 1,
   "metadata": {},
   "outputs": [],
   "source": [
    "from urllib.request import urlopen\n",
    "\n",
    "url = \"https://ai-dev.tistory.com/1\"\n",
    "html = urlopen(url)"
   ]
  },
  {
   "cell_type": "code",
   "execution_count": 2,
   "metadata": {},
   "outputs": [
    {
     "name": "stdout",
     "output_type": "stream",
     "text": [
      "b'<!doctype html>\\n<html lang=\"ko\">\\n<head>\\n<link rel=\"stylesheet\" type=\"text/css\" href=\"https://t1.daumcdn.net/tistory_admin/lib/lightbox/css/lightbox.min.css\" /><link rel=\"stylesheet\" type=\"text/css\" href=\"https://t1.daumcdn.net/tistory_admin/assets/blog/tistory-bd96dd17334b8ce2f37206f86a83458bf1d3362c/blogs/style/content/font.css?_version_=tistory-bd96dd17334b8ce2f37206f86a83458bf1d3362c\" /><link rel=\"stylesheet\" type=\"text/css\" href=\"https://t1.daumcdn.net/tistory_admin/assets/blog/tistory-bd96dd17334b8ce2f37206f86a83458bf1d3362c/blogs/style/content/content.css?_version_=tistory-bd96dd17334b8ce2f37206f86a83458bf1d3362c\" /><!--[if lt IE 9]><script src=\"https://t1.daumcdn.net/tistory_admin/lib/jquery/jquery-1.12.4.min.js\"></script><![endif]--><!--[if gte IE 9]>\\n<!--><script src=\"https://t1.daumcdn.net/tistory_admin/lib/jquery/jquery-3.2.1.min.js\"></script><!--<![endif]-->\\n<script src=\"https://t1.daumcdn.net/tistory_admin/lib/lightbox/js/lightbox-plus-jquery.min.js\"></script>\\n<script>\\nlightbox.options.fadeDuration = 200;\\nlightbox.options.resizeDuration = 200;\\nlightbox.options.wrapAround = false;\\nlightbox.options.albumLabel = \"%1 / %2\";\\n</script>\\n<script>var tjQuery = jQuery.noConflict(true);</script><style type=\"text/css\">.tt_article_useless_p_margin p {padding-top:0 !important;padding-bottom:0 !important;margin-top:0 !important;margin-bottom:0 !important;}</style><meta name=\"referrer\" content=\"always\"><link rel=\"icon\" href=\"//t1.daumcdn.net/tistory_admin/static/top/favicon_0630.ico\" /><link rel=\"apple-touch-icon\" href=\"//img1.daumcdn.net/thumb/C180x180/?fname=https%3A%2F%2Ft1.daumcdn.net%2Fcfile%2Ftistory%2F241F093D5701E73803\">\\n<link rel=\"apple-touch-icon\" sizes=\"76x76\" href=\"//img1.daumcdn.net/thumb/C76x76/?fname=https%3A%2F%2Ft1.daumcdn.net%2Fcfile%2Ftistory%2F241F093D5701E73803\">\\n<link rel=\"apple-touch-icon\" sizes=\"120x120\" href=\"//img1.daumcdn.net/thumb/C120x120/?fname=https%3A%2F%2Ft1.daumcdn.net%2Fcfile%2Ftistory%2F241F093D5701E73803\">\\n<link rel=\"apple-touch-icon\" sizes=\"152x152\" href=\"//img1.daumcdn.net/thumb/C152x152/?fname=https%3A%2F%2Ft1.daumcdn.net%2Fcfile%2Ftistory%2F241F093D5701E73803\">\\n<meta name=\"google-adsense-platform-account\" content=\"ca-host-pub-9691043933427338\">\\n<meta name=\"google-adsense-platform-domain\" content=\"tistory.com\">\\n<meta name=\"description\" content=\"Hello, world!\">\\r\\n\\r\\n<!-- BEGIN OPENGRAPH -->\\r\\n<link rel=\"canonical\" href=\"https://ai-dev.tistory.com/1\" /><meta property=\"og:type\" content=\"article\"><meta property=\"og:url\" content=\"https://ai-dev.tistory.com/1\" ><meta property=\"og:article:author\" content=\"\\xeb\\xa1\\x9c\\xec\\x8a\\xa4\\xec\\xb9\\xb4\\xec\\xb8\\xa0\" ><meta property=\"og:site_name\" content=\"\\xec\\x9d\\xb8\\xea\\xb3\\xb5\\xec\\xa7\\x80\\xeb\\x8a\\xa5 \\xea\\xb0\\x9c\\xeb\\xb0\\x9c\\xec\\x9d\\x98 \\xeb\\xaa\\xa8\\xeb\\x93\\xa0 \\xea\\xb2\\x83\" ><meta property=\"og:title\" content=\"\\xed\\x81\\xac\\xeb\\xa1\\xa4\\xeb\\xa7\\x81\\xec\\x9d\\x98 \\xec\\x84\\xb8\\xea\\xb3\\x84\\xec\\x97\\x90 \\xec\\x98\\xa4\\xec\\x8b\\xa0 \\xea\\xb2\\x83\\xec\\x9d\\x84 \\xed\\x99\\x98\\xec\\x98\\x81\\xed\\x95\\xa9\\xeb\\x8b\\x88\\xeb\\x8b\\xa4.\" ><meta name=\"by\" content=\"\\xeb\\xa1\\x9c\\xec\\x8a\\xa4\\xec\\xb9\\xb4\\xec\\xb8\\xa0\" ><meta property=\"og:description\" content=\"Hello, world!\" ><meta property=\"og:image\" content=\"https://t1.daumcdn.net/tistory_admin/static/images/openGraph/opengraph.png\" >\\r\\n<!-- END OPENGRAPH -->\\r\\n\\r\\n\\r\\n\\r\\n<!-- BEGIN TWITTERCARD -->\\r\\n<meta name=\"twitter:card\" content=\"summary_large_image\"><meta name=\"twitter:site\" content=\"@TISTORY\"><meta name=\"twitter:title\" content=\"\\xed\\x81\\xac\\xeb\\xa1\\xa4\\xeb\\xa7\\x81\\xec\\x9d\\x98 \\xec\\x84\\xb8\\xea\\xb3\\x84\\xec\\x97\\x90 \\xec\\x98\\xa4\\xec\\x8b\\xa0 \\xea\\xb2\\x83\\xec\\x9d\\x84 \\xed\\x99\\x98\\xec\\x98\\x81\\xed\\x95\\xa9\\xeb\\x8b\\x88\\xeb\\x8b\\xa4.\" ><meta name=\"twitter:description\" content=\"Hello, world!\" ><meta property=\"twitter:image\" content=\"https://t1.daumcdn.net/tistory_admin/static/images/openGraph/opengraph.png\" >\\r\\n<!-- END TWITTERCARD -->\\r\\n\\r\\n\\r\\n\\r\\n<!-- BEGIN DAUMAPP -->\\r\\n<meta property=\"dg:plink\" content=\"https://ai-dev.tistory.com/1\" ><meta name=\"plink\" content=\"https://ai-dev.tistory.com/1\" ><meta name=\"title\" content=\"\\xed\\x81\\xac\\xeb\\xa1\\xa4\\xeb\\xa7\\x81\\xec\\x9d\\x98 \\xec\\x84\\xb8\\xea\\xb3\\x84\\xec\\x97\\x90 \\xec\\x98\\xa4\\xec\\x8b\\xa0 \\xea\\xb2\\x83\\xec\\x9d\\x84 \\xed\\x99\\x98\\xec\\x98\\x81\\xed\\x95\\xa9\\xeb\\x8b\\x88\\xeb\\x8b\\xa4.\" ><meta name=\"article:media_name\" content=\"\\xec\\x9d\\xb8\\xea\\xb3\\xb5\\xec\\xa7\\x80\\xeb\\x8a\\xa5 \\xea\\xb0\\x9c\\xeb\\xb0\\x9c\\xec\\x9d\\x98 \\xeb\\xaa\\xa8\\xeb\\x93\\xa0 \\xea\\xb2\\x83\" ><meta property=\"article:mobile_url\" content=\"https://ai-dev.tistory.com/m/1\" ><meta property=\"article:pc_url\" content=\"https://ai-dev.tistory.com/1\" ><meta property=\"article:mobile_view_url\" content=\"https://ai-dev.tistory.com/m/1\" ><meta property=\"article:pc_view_url\" content=\"https://ai-dev.tistory.com/1\" ><meta property=\"article:talk_channel_view_url\" content=\"https://ai-dev.tistory.com/m/1\" ><meta property=\"article:pc_service_home\" content=\"https://www.tistory.com\" ><meta property=\"article:mobile_service_home\" content=\"https://www.tistory.com/m\" ><meta property=\"article:txid\" content=\"4442027_1\" /><meta property=\"article:published_time\" content=\"2021-01-21T14:06:56+09:00\" ><meta property=\"og:regDate\" content=\"20210121140656\" ><meta property=\"article:modified_time\" content=\"2021-01-21T14:06:56+09:00\" >\\r\\n<!-- END DAUMAPP -->\\r\\n\\r\\n\\r\\n\\r\\n<!-- BEGIN STRUCTURED_DATA -->\\r\\n<script type=\"application/ld+json\">{\"@context\":\"http:\\\\/\\\\/schema.org\",\"@type\":\"BlogPosting\",\"mainEntityOfPage\":{\"@id\":\"https:\\\\/\\\\/ai-dev.tistory.com\\\\/1\"},\"url\":\"https:\\\\/\\\\/ai-dev.tistory.com\\\\/1\",\"headline\":\"\\\\ud06c\\\\ub864\\\\ub9c1\\\\uc758 \\\\uc138\\\\uacc4\\\\uc5d0 \\\\uc624\\\\uc2e0 \\\\uac83\\\\uc744 \\\\ud658\\\\uc601\\\\ud569\\\\ub2c8\\\\ub2e4.\",\"description\":\"Hello, world!\",\"author\":{\"@type\":\"Person\",\"name\":\"\\\\ub85c\\\\uc2a4\\\\uce74\\\\uce20\"},\"image\":{\"@type\":\"ImageObject\",\"url\":\"https:\\\\/\\\\/t1.daumcdn.net\\\\/tistory_admin\\\\/static\\\\/images\\\\/openGraph\\\\/opengraph.png\",\"width\":\"800px\",\"height\":\"800px\"},\"datePublished\":\"20210121T14:06:56+09:00\",\"dateModified\":\"20210121T14:06:56+09:00\",\"publisher\":{\"@type\":\"Organization\",\"name\":\"TISTORY\",\"logo\":{\"@type\":\"ImageObject\",\"url\":\"https:\\\\/\\\\/t1.daumcdn.net\\\\/tistory_admin\\\\/static\\\\/images\\\\/openGraph\\\\/opengraph.png\",\"width\":\"800px\",\"height\":\"800px\"}}}</script><meta name=\"robots\" content=\"max-image-preview:large\">\\r\\n<!-- END STRUCTURED_DATA -->\\r\\n\\r\\n\\n<meta charset=\"UTF-8\">\\n<meta name=\"viewport\" content=\"user-scalable=no, initial-scale=1.0, maximum-scale=1.0, minimum-scale=1.0, width=device-width\">\\n<title>\\xed\\x81\\xac\\xeb\\xa1\\xa4\\xeb\\xa7\\x81\\xec\\x9d\\x98 \\xec\\x84\\xb8\\xea\\xb3\\x84\\xec\\x97\\x90 \\xec\\x98\\xa4\\xec\\x8b\\xa0 \\xea\\xb2\\x83\\xec\\x9d\\x84 \\xed\\x99\\x98\\xec\\x98\\x81\\xed\\x95\\xa9\\xeb\\x8b\\x88\\xeb\\x8b\\xa4.</title>\\n<link rel=\"stylesheet\" href=\"https://tistory1.daumcdn.net/tistory/0/pg_Poster/style.css\">\\n<script src=\"//t1.daumcdn.net/tistory_admin/lib/jquery/jquery-1.12.4.min.js\"></script>\\n\\r\\n<style type=\"text/css\">\\n\\t\\t#daumSearchBox {\\n\\t\\t\\theight: 21px;\\n\\t\\t\\tbackground-image : url(//i1.daumcdn.net/imgsrc.search/search_all/show/tistory/plugin/bg_search2_2.gif);\\n\\t\\t\\tmargin: 5px auto ;\\n\\t\\t\\tpadding: 0;\\n\\t\\t}\\n\\t\\t#daumSearchBox input {\\n\\t\\t\\tbackground: none;\\n\\t\\t\\tmargin : 0;\\n\\t\\t\\tpadding : 0;\\n\\t\\t\\tborder : 0;\\n\\t\\t}\\n\\t\\t#daumSearchBox #daumLogo {\\n\\t\\t\\twidth: 34px;\\n\\t\\t\\theight: 21px;\\n\\t\\t\\tfloat: left;\\n\\t\\t\\tmargin-right: 5px;\\n\\t\\t\\tbackground-image : url(//i1.daumcdn.net/img-media/tistory/img/bg_search1_2_2010ci.gif);\\n\\t\\t}\\n\\t\\t#daumSearchBox #show_q {\\n\\t\\t\\tbackground-color: transparent;\\n\\t\\t\\tborder: none;\\n\\t\\t\\tfont: 12px Gulim, Sans-serif;\\n\\t\\t\\tcolor: #555;\\n\\t\\t\\tmargin-top: 4px;\\n\\t\\t\\tmargin-right: 15px;\\n\\t\\t\\tfloat: left;\\n\\t\\t}\\n\\n\\t\\t#daumSearchBox #show_btn {\\n\\t\\t\\tbackground-image : url(//i1.daumcdn.net/imgsrc.search/search_all/show/tistory/plugin/bt_search_2.gif);\\n\\t\\t\\twidth: 37px;\\n\\t\\t\\theight: 21px;\\n\\t\\t\\tfloat: left;\\n\\t\\t\\tmargin:0;\\n\\t\\t\\tcursor:pointer;\\n\\t\\t\\ttext-indent:-1000em;\\n\\t\\t}\\n\\t</style>\\r\\n<link rel=\"stylesheet\" type=\"text/css\" href=\"https://t1.daumcdn.net/tistory_admin/assets/blog/tistory-bd96dd17334b8ce2f37206f86a83458bf1d3362c/blogs/plugins/TistoryProfileLayer/style.css?_version_=tistory-bd96dd17334b8ce2f37206f86a83458bf1d3362c\" />\\r\\n<script type=\"text/javascript\" src=\"https://t1.daumcdn.net/tistory_admin/assets/blog/tistory-bd96dd17334b8ce2f37206f86a83458bf1d3362c/blogs/plugins/TistoryProfileLayer/profile.js?_version_=tistory-bd96dd17334b8ce2f37206f86a83458bf1d3362c\"></script>\\r\\n\\t<style type=\"text/css\">\\n\\t\\t.another_category { border: 1px solid #E5E5E5; padding: 10px 10px 5px; margin:10px 0; clear: both; }\\n\\t\\t.another_category h4 { font-size: 12px !important; margin: 0 !important; border-bottom: 1px solid #E5E5E5 !important; padding: 2px 0 6px !important; }\\n\\t\\t.another_category h4 a { font-weight: bold !important; }\\n\\t\\t.another_category table { table-layout: fixed; border-collapse: collapse; width: 100% !important; margin-top: 10px !important; }\\n\\t\\t* html .another_category table { width: auto !important; }\\n\\t\\t*:first-child+html .another_category table { width: auto !important; }\\n\\t\\t.another_category th, .another_category td { padding: 0 0 4px !important; }\\n\\t\\t.another_category th { text-align: left; font-size: 12px !important; font-weight: normal;  word-break: break-all; overflow: hidden; line-height: 1.5; }\\n\\t\\t.another_category td { text-align: right; width: 80px; font-size: 11px; }\\n\\t\\t.another_category th a { font-weight: normal; text-decoration: none; border: none !important; }\\n\\t\\t.another_category th a.current{ font-weight: bold; text-decoration: none !important; border-bottom: 1px solid !important; }\\n\\t\\t.another_category th span { font-weight: normal; text-decoration: none; font: 10px Tahoma, Sans-serif; border: none !important; }\\n\\n\\t\\t.another_category_color_gray, .another_category_color_gray h4 { border-color: #E5E5E5 !important; }\\n\\t\\t.another_category_color_gray * { color: #909090 !important; }\\n\\t\\t.another_category_color_gray th a.current{border-color:#909090 !important;}\\n\\t\\t.another_category_color_gray h4, .another_category_color_gray h4 a { color: #737373 !important; }\\n\\n\\n\\t\\t.another_category_color_red, .another_category_color_red h4 { border-color: #F6D4D3 !important;  }\\n\\t\\t.another_category_color_red * { color: #E86869 !important; }\\n\\t\\t.another_category_color_red th a.current{border-color:#E86869 !important;}\\n\\t\\t.another_category_color_red h4, .another_category_color_red h4 a { color: #ED0908 !important; }\\n\\n\\n\\t\\t.another_category_color_green, .another_category_color_green h4 { border-color: #CCE7C8 !important; }\\n\\t\\t.another_category_color_green * { color: #64C05B !important; }\\n\\t\\t.another_category_color_green th a.current{border-color:#64C05B !important;}\\n\\t\\t.another_category_color_green h4, .another_category_color_green h4 a { color: #3EA731 !important; }\\n\\n\\n\\t\\t.another_category_color_blue, .another_category_color_blue h4 { border-color: #C8DAF2 !important; }\\n\\t\\t.another_category_color_blue * { color: #477FD6 !important; }\\n\\t\\t.another_category_color_blue th a.current{border-color:#477FD6 !important;}\\n\\t\\t.another_category_color_blue h4, .another_category_color_blue h4 a { color: #1960CA !important; }\\n\\n\\n\\t\\t.another_category_color_violet, .another_category_color_violet h4 { border-color: #E1CEEC !important;  }\\n\\t\\t.another_category_color_violet * { color:#9D64C5 !important; }\\n\\t\\t.another_category_color_violet th a.current{border-color:#9D64C5 !important;}\\n\\t\\t.another_category_color_violet h4, .another_category_color_violet h4 a { color: #7E2CB5 !important; }\\n\\t</style>\\n<script type=\"text/javascript\">\\n        \\n        window.TistoryBlog = {\\n            basePath: \"\",\\n            url: \"https://ai-dev.tistory.com\",\\n            tistoryUrl: \"https://ai-dev.tistory.com\",\\n\\t\\t\\tmanageUrl: \\'https://ai-dev.tistory.com/manage\\',\\n            token: \\'CgQRirg5euzUHO+TAlCDVg==\\'\\n        };\\n        var servicePath = \"\";\\n        var blogURL = \"\";\\n    </script>\\n\\n\\t<script> (function() { window.orgjQuery = window.jQuery; window.jQuery = tjQuery })()</script>\\n    <script type=\"text/javascript\" defer src=https://t1.daumcdn.net/tistory_admin/assets/blog/tistory-bd96dd17334b8ce2f37206f86a83458bf1d3362c/blogs/script/reaction/reaction-button-container.min.js?_version_=tistory-bd96dd17334b8ce2f37206f86a83458bf1d3362c></script>\\n    <script> (function() { window.jQuery = window.orgjQuery; delete window.orgjQuery })()</script>\\n        <script type=\"text/javascript\" src=\"https://t1.daumcdn.net/tistory_admin/assets/blog/tistory-bd96dd17334b8ce2f37206f86a83458bf1d3362c/blogs/script/_/base.js?_version_=tistory-bd96dd17334b8ce2f37206f86a83458bf1d3362c\"></script>\\n        <link rel=\"stylesheet\" type=\"text/css\" href=\"https://t1.daumcdn.net/tistory_admin/assets/blog/tistory-bd96dd17334b8ce2f37206f86a83458bf1d3362c/blogs/style/dialog.css?_version_=tistory-bd96dd17334b8ce2f37206f86a83458bf1d3362c\"/>\\n            <link rel=\"stylesheet\" type=\"text/css\" href=\"//t1.daumcdn.net/tistory_admin/www/style/top/font.css\">\\n    <link rel=\"stylesheet\" type=\"text/css\" href=\"https://t1.daumcdn.net/tistory_admin/assets/blog/tistory-bd96dd17334b8ce2f37206f86a83458bf1d3362c/blogs/style/postBtn.css?_version_=tistory-bd96dd17334b8ce2f37206f86a83458bf1d3362c\"/>\\n        <link rel=\"stylesheet\" type=\"text/css\" href=\"https://t1.daumcdn.net/tistory_admin/assets/blog/tistory-bd96dd17334b8ce2f37206f86a83458bf1d3362c/blogs/style/component/tistory.css?_version_=tistory-bd96dd17334b8ce2f37206f86a83458bf1d3362c\" />\\n        <script type=\"text/javascript\" src=\"//developers.kakao.com/sdk/js/kakao.min.js\"></script></head>\\n<body id=\"tt-body-page\" class=\"color-gray post-type-text paging-view-more\">\\n<script type=\"text/javascript\">\\n\\t(function() {\\n\\t\\tif (!window.T) {\\n\\t\\t\\twindow.T = {}\\n\\t\\t}\\n\\t\\twindow.T.config = {\"TOP_SSL_URL\":\"https:\\\\/\\\\/www.tistory.com\",\"PREVIEW\":false,\"ROLE\":\"guest\",\"PREV_PAGE\":\"\\\\/2\",\"NEXT_PAGE\":\"\",\"BLOG\":{\"isDormancy\":false,\"title\":\"\\\\uc778\\\\uacf5\\\\uc9c0\\\\ub2a5 \\\\uac1c\\\\ubc1c\\\\uc758 \\\\ubaa8\\\\ub4e0 \\\\uac83\"},\"NEED_COMMENT_LOGIN\":false,\"COMMENT_LOGIN_CONFIRM_MESSAGE\":\"\",\"LOGIN_URL\":\"https:\\\\/\\\\/www.tistory.com\\\\/auth\\\\/login\\\\/?redirectUrl=http%3A%2F%2Fai-dev.tistory.com%2F1\",\"DEFAULT_URL\":\"https:\\\\/\\\\/ai-dev.tistory.com\",\"USER\":{\"name\":null,\"homepage\":null},\"ROLE_GROUP\":\"visitor\",\"SUBSCRIPTION\":{\"status\":\"none\",\"isConnected\":false,\"isProcessing\":false,\"isPending\":false,\"isWait\":false,\"isNone\":true},\"IS_LOGIN\":false,\"HAS_BLOG\":false,\"TOP_URL\":\"https:\\\\/\\\\/www.tistory.com\",\"JOIN_URL\":\"https:\\\\/\\\\/www.tistory.com\\\\/member\\\\/join\"};\\n\\t\\twindow.appInfo = {\"domain\":\"tistory.com\",\"topUrl\":\"https:\\\\/\\\\/www.tistory.com\",\"loginUrl\":\"https:\\\\/\\\\/www.tistory.com\\\\/auth\\\\/login\",\"logoutUrl\":\"https:\\\\/\\\\/www.tistory.com\\\\/auth\\\\/logout\"};\\n\\n        window.initData = {};\\n        \\n\\t})();\\n</script>\\n\\n<script type=\"text/javascript\" src=\"https://t1.daumcdn.net/tistory_admin/assets/blog/tistory-bd96dd17334b8ce2f37206f86a83458bf1d3362c/blogs/script/blog/common.js?_version_=tistory-bd96dd17334b8ce2f37206f86a83458bf1d3362c\"></script>\\n<div style=\"margin:0; padding:0; border:none; background:none; float:none; clear:none; z-index:0\"></div>\\n<div id=\"acc-nav\">\\n\\t<a href=\"#content\">\\xeb\\xb3\\xb8\\xeb\\xac\\xb8 \\xeb\\xb0\\x94\\xeb\\xa1\\x9c\\xea\\xb0\\x80\\xea\\xb8\\xb0</a>\\n</div>\\n<div id=\"wrap\">\\n\\t<header id=\"header\">\\n\\t\\t<h1><a href=\"/\">\\xec\\x9d\\xb8\\xea\\xb3\\xb5\\xec\\xa7\\x80\\xeb\\x8a\\xa5 \\xea\\xb0\\x9c\\xeb\\xb0\\x9c\\xec\\x9d\\x98 \\xeb\\xaa\\xa8\\xeb\\x93\\xa0 \\xea\\xb2\\x83</a></h1>\\n\\t\\t<button type=\"button\" class=\"mobile-menu\"><span>\\xeb\\xa9\\x94\\xeb\\x89\\xb4</span></button>\\n\\t\\t<div class=\"menu\">\\n\\t\\t\\t<nav id=\"gnb\">\\n\\t\\t\\t\\t<ul class=\"tt_category\">\\n\\t<li class=\"\">\\n\\t\\t<a class=\"link_tit\" href=\"/category\">\\n\\t\\t\\t\\xeb\\xb6\\x84\\xeb\\xa5\\x98 \\xec\\xa0\\x84\\xec\\xb2\\xb4\\xeb\\xb3\\xb4\\xea\\xb8\\xb0\\t\\t\\t\\t\\t\\t\\t<span class=\"c_cnt\">(2)</span>\\n\\t\\t\\t\\n\\t\\t\\t\\t\\t\\t\\t<img src=\"https://t1.daumcdn.net/tistory_admin/assets/blog/tistory-bd96dd17334b8ce2f37206f86a83458bf1d3362c/blogs/image/category/new_ico_5.gif?_version_=tistory-bd96dd17334b8ce2f37206f86a83458bf1d3362c\" alt=\"N\" style=\\'vertical-align:middle;padding-left:2px;\\' />\\n\\t\\t\\t\\t\\t</a>\\n\\n\\t\\t\\t\\t<ul class=\"category_list\">\\n\\t\\t\\t\\t\\t\\t\\t<li class=\"\">\\n\\t\\t\\t\\t\\t<a class=\"link_item\" href=\"/category/%ED%81%AC%EB%A1%A4%EB%A7%81\">\\n\\t\\t\\t\\t\\t\\t\\xed\\x81\\xac\\xeb\\xa1\\xa4\\xeb\\xa7\\x81\\t\\t\\t\\t\\t\\t\\t\\t\\t\\t\\t\\t\\t<span class=\"c_cnt\">(2)</span>\\n\\t\\t\\t\\t\\t\\t\\n\\t\\t\\t\\t\\t\\t\\t\\t\\t\\t\\t\\t\\t<img src=\"https://t1.daumcdn.net/tistory_admin/assets/blog/tistory-bd96dd17334b8ce2f37206f86a83458bf1d3362c/blogs/image/category/new_ico_5.gif?_version_=tistory-bd96dd17334b8ce2f37206f86a83458bf1d3362c\" alt=\"N\" style=\\'vertical-align:middle;padding-left:2px;\\' />\\n\\t\\t\\t\\t\\t\\t\\t\\t\\t\\t\\t</a>\\n\\n\\t\\t\\t\\t\\t\\n\\t\\t\\t\\t</li>\\n\\t\\t\\t\\t\\t</ul>\\n\\t\\t\\t</li>\\n</ul>\\n\\t\\t\\t</nav>\\n\\t\\t\\t<div class=\"social-link\">\\n\\t\\t\\t\\t\\n\\t\\t\\t\\t\\n\\t\\t\\t\\t\\n\\t\\t\\t\\t\\n\\t\\t\\t</div>\\n\\t\\t\\t<p>POWERED BY TISTORY</p>\\n\\t\\t</div>\\n\\t\\t<div class=\"search\">\\n\\t\\t\\t\\n\\t\\t\\t\\t\\t<input type=\"text\" name=\"search\" value=\"\" placeholder=\"\\xea\\xb2\\x80\\xec\\x83\\x89\\xeb\\x82\\xb4\\xec\\x9a\\xa9\\xec\\x9d\\x84 \\xec\\x9e\\x85\\xeb\\xa0\\xa5\\xed\\x95\\x98\\xec\\x84\\xb8\\xec\\x9a\\x94.\" onkeypress=\"if (event.keyCode == 13) { try{window.location.href=\\'/search/\\'+looseURIEncode(document.getElementsByName(\\'search\\')[0].value);document.getElementsByName(\\'search\\')[0].value=\\'\\';return false;}catch(e){} }\">\\n\\t\\t\\t\\t\\t<button type=\"submit\" onclick=\"try{window.location.href=\\'/search/\\'+looseURIEncode(document.getElementsByName(\\'search\\')[0].value);document.getElementsByName(\\'search\\')[0].value=\\'\\';return false;}catch(e){}\">\\xea\\xb2\\x80\\xec\\x83\\x89</button>\\n\\t\\t\\t\\t\\n\\t\\t</div>\\n\\t</header>\\n\\t<hr>\\n\\t<section class=\"container\">\\n\\t\\t\\n\\t\\t<article id=\"content\">\\n\\t\\t\\t\\n\\n\\t\\t\\t\\n\\n\\t\\t\\t\\n\\n\\t\\t\\t\\n\\n\\t\\t\\t<div class=\"inner\">\\n\\t\\t\\t\\t\\n\\n\\t\\t\\t\\t\\n\\t\\t\\t\\t\\t\\n\\t\\t\\t\\t\\t\\n\\t\\t\\t\\t\\t\\t<div class=\"hgroup\">\\n\\t\\t\\t\\t\\t\\t\\t<div class=\"category\">\\xed\\x81\\xac\\xeb\\xa1\\xa4\\xeb\\xa7\\x81</div>\\n\\t\\t\\t\\t\\t\\t\\t<h1>\\xed\\x81\\xac\\xeb\\xa1\\xa4\\xeb\\xa7\\x81\\xec\\x9d\\x98 \\xec\\x84\\xb8\\xea\\xb3\\x84\\xec\\x97\\x90 \\xec\\x98\\xa4\\xec\\x8b\\xa0 \\xea\\xb2\\x83\\xec\\x9d\\x84 \\xed\\x99\\x98\\xec\\x98\\x81\\xed\\x95\\xa9\\xeb\\x8b\\x88\\xeb\\x8b\\xa4. </h1>\\n\\t\\t\\t\\t\\t\\t\\t<div class=\"post-meta\">\\n\\t\\t\\t\\t\\t\\t\\t\\t<span class=\"author\">\\xeb\\xa1\\x9c\\xec\\x8a\\xa4\\xec\\xb9\\xb4\\xec\\xb8\\xa0</span>\\n\\t\\t\\t\\t\\t\\t\\t\\t<span class=\"date\">2021. 1. 21. 14:06</span>\\n\\t\\t\\t\\t\\t\\t\\t\\t\\n\\t\\t\\t\\t\\t\\t\\t</div>\\n\\t\\t\\t\\t\\t\\t</div>\\n\\t\\t\\t\\t\\t\\t<div class=\"entry-content\">\\n\\t\\t\\t\\t\\t\\t\\t<div class=\"tt_article_useless_p_margin contents_style\"><p>Hello, world!</p><div class=\"container_postbtn #post_button_group\">\\n    <div class=\"postbtn_like\">\\n        \\n<script>\\n    window.ReactionButtonType = \\'reaction\\';\\n    window.ReactionApiUrl = \\'//ai-dev.tistory.com/reaction\\';\\n    window.ReactionReqBody = {\\n        entryId: 1    }\\n</script>\\n<div class=\"wrap_btn\" id=reaction-1></div>\\n<script src=https://t1.daumcdn.net/tistory_admin/assets/blog/tistory-bd96dd17334b8ce2f37206f86a83458bf1d3362c/blogs/script/reaction/reaction-button-container.min.js?_version_=tistory-bd96dd17334b8ce2f37206f86a83458bf1d3362c></script>\\n        <div class=\"wrap_btn wrap_btn_share\">\\n    <button type=\"button\" class=\"btn_post sns_btn btn_share\" data-thumbnail-url=\"https://t1.daumcdn.net/tistory_admin/static/images/openGraph/opengraph.png\" data-title=\"\\xed\\x81\\xac\\xeb\\xa1\\xa4\\xeb\\xa7\\x81\\xec\\x9d\\x98 \\xec\\x84\\xb8\\xea\\xb3\\x84\\xec\\x97\\x90 \\xec\\x98\\xa4\\xec\\x8b\\xa0 \\xea\\xb2\\x83\\xec\\x9d\\x84 \\xed\\x99\\x98\\xec\\x98\\x81\\xed\\x95\\xa9\\xeb\\x8b\\x88\\xeb\\x8b\\xa4.\" data-description=\"Hello, world!\" data-profile-image=\"https://t1.daumcdn.net/tistory_admin/static/manage/images/r3/default_L.png\" data-profile-name=\"\\xeb\\xa1\\x9c\\xec\\x8a\\xa4\\xec\\xb9\\xb4\\xec\\xb8\\xa0\" data-pc-url=\"https://ai-dev.tistory.com/1\" data-relative-pc-url=\"/1\" data-blog-title=\"\\xec\\x9d\\xb8\\xea\\xb3\\xb5\\xec\\xa7\\x80\\xeb\\x8a\\xa5 \\xea\\xb0\\x9c\\xeb\\xb0\\x9c\\xec\\x9d\\x98 \\xeb\\xaa\\xa8\\xeb\\x93\\xa0 \\xea\\xb2\\x83\">\\n        <span class=\"ico_postbtn ico_share\">\\xea\\xb3\\xb5\\xec\\x9c\\xa0\\xed\\x95\\x98\\xea\\xb8\\xb0</span>\\n    </button>\\n</div>\\n                <div class=\"wrap_btn wrap_btn_etc\" data-entry-id=\"1\" data-entry-visibility=\"public\" data-category-visibility=\"public\">\\n    <button type=\"button\" class=\"btn_post btn_etc2\"><span class=\"ico_postbtn ico_etc\">\\xea\\xb8\\x80 \\xec\\x9a\\x94\\xec\\x86\\x8c</span></button>\\n</div>\\n    </div>\\n    <button type=\"button\" class=\"btn_menu_toolbar btn_subscription  #subscribe\" data-blog-id=\"4442027\" data-url=\"https://ai-dev.tistory.com/1\" data-device=\"web_pc\">\\n    <em class=\"txt_state\">\\xea\\xb5\\xac\\xeb\\x8f\\x85\\xed\\x95\\x98\\xea\\xb8\\xb0</em>\\n    <strong class=\"txt_tool_id\">\\xec\\x9d\\xb8\\xea\\xb3\\xb5\\xec\\xa7\\x80\\xeb\\x8a\\xa5 \\xea\\xb0\\x9c\\xeb\\xb0\\x9c\\xec\\x9d\\x98 \\xeb\\xaa\\xa8\\xeb\\x93\\xa0 \\xea\\xb2\\x83</strong>\\n    <span class=\"img_common_tistory ico_check_type1\"></span>\\n</button>\\n    <div class=\"postbtn_ccl\" data-ccl-type=\"\">\\n    <a href=\"https://creativecommons.org/licenses//4.0/deed.ko\" target=\"_blank\" class=\"link_ccl\">\\n        <span class=\"bundle_ccl\">\\n                    </span>\\n    </a>\\n</div>\\n    <!--\\n<rdf:RDF xmlns=\"http://web.resource.org/cc/\" xmlns:dc=\"http://purl.org/dc/elements/1.1/\" xmlns:rdf=\"http://www.w3.org/1999/02/22-rdf-syntax-ns#\">\\n    <Work rdf:about=\"\">\\n        <license rdf:resource=\"http://creativecommons.org/licenses/by-/2.0/kr/\" />\\n    </Work>\\n    <License rdf:about=\"http://creativecommons.org/licenses/by-/\">\\n        <permits rdf:resource=\"http://web.resource.org/cc/Reproduction\"/>\\n        <permits rdf:resource=\"http://web.resource.org/cc/Distribution\"/>\\n        <requires rdf:resource=\"http://web.resource.org/cc/Notice\"/>\\n        <requires rdf:resource=\"http://web.resource.org/cc/Attribution\"/>\\n                    </License>\\n</rdf:RDF>\\n-->\\n</div><div class=\"another_category another_category_color_gray\">\\r\\n<h4>\\'<a href=\"/category/\\xed\\x81\\xac\\xeb\\xa1\\xa4\\xeb\\xa7\\x81\">\\xed\\x81\\xac\\xeb\\xa1\\xa4\\xeb\\xa7\\x81</a>\\' \\xec\\xb9\\xb4\\xed\\x85\\x8c\\xea\\xb3\\xa0\\xeb\\xa6\\xac\\xec\\x9d\\x98 \\xeb\\x8b\\xa4\\xeb\\xa5\\xb8 \\xea\\xb8\\x80</h4>\\r\\n<table>\\r\\n<tr>\\r\\n<th>\\r\\n<a href=\"/2?category=836119\" >\\xed\\x81\\xac\\xeb\\xa1\\xa4\\xeb\\xa7\\x81 \\xec\\x98\\x88\\xec\\xa0\\x9c \\xed\\x8e\\x98\\xec\\x9d\\xb4\\xec\\xa7\\x80 - 02</a>&nbsp;&nbsp;<span>(0)</span>\\r\\n</th>\\r\\n<td>\\r\\n00:12:35</td>\\r\\n</tr>\\r\\n<tr>\\r\\n<th>\\r\\n<a href=\"/1?category=836119\"  class =\"current\" >\\xed\\x81\\xac\\xeb\\xa1\\xa4\\xeb\\xa7\\x81\\xec\\x9d\\x98 \\xec\\x84\\xb8\\xea\\xb3\\x84\\xec\\x97\\x90 \\xec\\x98\\xa4\\xec\\x8b\\xa0 \\xea\\xb2\\x83\\xec\\x9d\\x84 \\xed\\x99\\x98\\xec\\x98\\x81\\xed\\x95\\xa9\\xeb\\x8b\\x88\\xeb\\x8b\\xa4.</a>&nbsp;&nbsp;<span>(0)</span>\\r\\n</th>\\r\\n<td>\\r\\n2021.01.21</td>\\r\\n</tr>\\r\\n</table></div></div>\\n\\t\\t\\t\\t\\t\\t</div>\\n\\t\\t\\t\\t\\t\\t\\n\\n\\t\\t\\t\\t\\t\\t\\n\\t\\t\\t\\t\\t\\t\\t<div class=\"related-articles\">\\n\\t\\t\\t\\t\\t\\t\\t\\t<h2><strong>\\'\\xed\\x81\\xac\\xeb\\xa1\\xa4\\xeb\\xa7\\x81\\'</strong> Related Articles</h2>\\n\\t\\t\\t\\t\\t\\t\\t\\t<ul>\\n\\t\\t\\t\\t\\t\\t\\t\\t\\t\\n\\t\\t\\t\\t\\t\\t\\t\\t\\t\\t<li>\\n\\t\\t\\t\\t\\t\\t\\t\\t\\t\\t\\t<a href=\"/2?category=836119\">\\n\\t\\t\\t\\t\\t\\t\\t\\t\\t\\t\\t\\t<span class=\"thum\">\\n\\t\\t\\t\\t\\t\\t\\t\\t\\t\\t\\t\\t\\t\\n\\t\\t\\t\\t\\t\\t\\t\\t\\t\\t\\t\\t</span>\\n\\t\\t\\t\\t\\t\\t\\t\\t\\t\\t\\t\\t<span class=\"title\">\\xed\\x81\\xac\\xeb\\xa1\\xa4\\xeb\\xa7\\x81 \\xec\\x98\\x88\\xec\\xa0\\x9c \\xed\\x8e\\x98\\xec\\x9d\\xb4\\xec\\xa7\\x80 - 02</span>\\n\\t\\t\\t\\t\\t\\t\\t\\t\\t\\t\\t</a>\\n\\t\\t\\t\\t\\t\\t\\t\\t\\t\\t</li>\\n\\t\\t\\t\\t\\t\\t\\t\\t\\t\\n\\t\\t\\t\\t\\t\\t\\t\\t</ul>\\n\\t\\t\\t\\t\\t\\t\\t</div>\\n\\t\\t\\t\\t\\t\\t\\n\\n\\t\\t\\t\\t\\t\\t<div id=\"entry1Comment\">\\n\\t\\t\\t\\t\\t\\t\\t<div class=\"comments\">\\n\\t\\t\\t\\t\\t\\t\\t\\t\\n\\n\\t\\t\\t\\t\\t\\t\\t\\t<form method=\"post\" action=\"/comment/add/1\" onsubmit=\"return false\" style=\"margin: 0\">\\n\\t\\t\\t\\t\\t\\t\\t\\t\\t<div class=\"comment-form\">\\n\\t\\t\\t\\t\\t\\t\\t\\t\\t\\t\\n\\t\\t\\t\\t\\t\\t\\t\\t\\t\\t\\t<div class=\"field\">\\n\\t\\t\\t\\t\\t\\t\\t\\t\\t\\t\\t\\t\\n\\t\\t\\t\\t\\t\\t\\t\\t\\t\\t\\t\\t\\t<input type=\"text\" name=\"name\" value=\"\" placeholder=\"\\xec\\x9d\\xb4\\xeb\\xa6\\x84\">\\n\\t\\t\\t\\t\\t\\t\\t\\t\\t\\t\\t\\t\\t<input type=\"password\" name=\"password\" value=\"\" placeholder=\"\\xec\\x95\\x94\\xed\\x98\\xb8\">\\n\\t\\t\\t\\t\\t\\t\\t\\t\\t\\t\\t\\t\\n\\t\\t\\t\\t\\t\\t\\t\\t\\t\\t\\t\\t<div class=\"secret\">\\n\\t\\t\\t\\t\\t\\t\\t\\t\\t\\t\\t\\t\\t<input type=\"checkbox\" name=\"secret\" id=\"secret\">\\n\\t\\t\\t\\t\\t\\t\\t\\t\\t\\t\\t\\t\\t<label for=\"secret\" tabindex=\"0\">Secret</label>\\n\\t\\t\\t\\t\\t\\t\\t\\t\\t\\t\\t\\t</div>\\n\\t\\t\\t\\t\\t\\t\\t\\t\\t\\t\\t</div>\\n\\t\\t\\t\\t\\t\\t\\t\\t\\t\\t\\n\\t\\t\\t\\t\\t\\t\\t\\t\\t\\t<textarea name=\"comment\" cols=\"\" rows=\"4\" placeholder=\"\\xec\\x97\\xac\\xeb\\x9f\\xac\\xeb\\xb6\\x84\\xec\\x9d\\x98 \\xec\\x86\\x8c\\xec\\xa4\\x91\\xed\\x95\\x9c \\xeb\\x8c\\x93\\xea\\xb8\\x80\\xec\\x9d\\x84 \\xec\\x9e\\x85\\xeb\\xa0\\xa5\\xed\\x95\\xb4\\xec\\xa3\\xbc\\xec\\x84\\xb8\\xec\\x9a\\x94.\"></textarea>\\n\\t\\t\\t\\t\\t\\t\\t\\t\\t\\t<div class=\"submit\">\\n\\t\\t\\t\\t\\t\\t\\t\\t\\t\\t\\t<button type=\"submit\" class=\"btn\" onclick=\"addComment(this, 1); return false;\">\\xeb\\x8c\\x93\\xea\\xb8\\x80\\xeb\\x8b\\xac\\xea\\xb8\\xb0</button>\\n\\t\\t\\t\\t\\t\\t\\t\\t\\t\\t</div>\\n\\t\\t\\t\\t\\t\\t\\t\\t</div>\\n\\t\\t\\t\\t\\t\\t\\t\\t</form>\\n\\t\\t\\t\\t\\t\\t\\t</div>\\n\\t\\t\\t\\t\\t\\t</div><script type=\"text/javascript\">loadedComments[1]=true;findFragmentAndHighlight(1)</script>\\n\\n\\t\\t\\t\\t\\t\\n\\t\\t\\t\\t\\n\\t\\t\\t</div>\\n\\n\\t\\t\\t\\n\\n\\t\\t\\t\\n\\n\\t\\t\\t\\n\\t\\t\\t\\t<div class=\"pagination\">\\n\\t\\t\\t\\t\\t<a  href=\\'/2\\' class=\"prev \">\\xec\\x9d\\xb4\\xec\\xa0\\x84</a>\\n\\t\\t\\t\\t\\t\\n\\t\\t\\t\\t\\t\\t<a  href=\\'/2\\'><span >1</span></a>\\n\\t\\t\\t\\t\\t\\n\\t\\t\\t\\t\\t\\t<a ><span class=\"selected\">2</span></a>\\n\\t\\t\\t\\t\\t\\n\\t\\t\\t\\t\\t<a  class=\"next no-more-next\">\\xeb\\x8b\\xa4\\xec\\x9d\\x8c</a>\\n\\t\\t\\t\\t</div>\\n\\t\\t\\t\\n\\n\\t\\t</article>\\n\\t</section>\\n\\t<hr>\\n\\t\\n\\t<footer id=\"footer\">\\n\\t\\t<p class=\"copyright\">DESIGN BY <a href=\"#\">TISTORY</a> <a href=\"https://ai-dev.tistory.com/manage\" class=\"admin\">\\xea\\xb4\\x80\\xeb\\xa6\\xac\\xec\\x9e\\x90</a></p>\\n\\t</footer>\\n</div>\\n<script src=\"https://tistory1.daumcdn.net/tistory/0/pg_Poster/images/script.js\"></script>\\n\\n<script src=\"//search1.daumcdn.net/search/statics/common/js/g/search_dragselection.min.js\"></script>\\r\\n\\n\\t<script>\\n\\t    lightbox.option({\\n\\t\\t\\t\"fadeDuration\": 200,\\n\\t\\t    \"resizeDuration\": 200,\\n\\t\\t    \"wrapAround\": false,\\n\\t\\t\\t\"albumLabel\": \"%1 / %2\",\\n\\t\\t\\t\"fitImagesInViewport\":true ,\\n\\t\\t\\t\"stopEvent\": false\\n\\t    })\\n\\t</script>            <script type=\"text/javascript\" src=\"//t1.daumcdn.net/tiara/js/v1/tiara.min.js\"></script>\\n            <script type=\"text/javascript\">window.tiara = {\"svcDomain\":\"user.tistory.com\",\"section\":\"\\\\uae00\\\\ubdf0\",\"trackPage\":\"\\\\uae00\\\\ubdf0_\\\\ubcf4\\\\uae30\",\"page\":\"\\\\uae00\\\\ubdf0\",\"key\":\"4442027-1\",\"customProps\":{\"userId\":0,\"blogId\":\"4442027\",\"role\":\"guest\",\"filterTarget\":false,\"trackPage\":\"\\\\uae00\\\\ubdf0_\\\\ubcf4\\\\uae30\",\"entryId\":\"1\"},\"entry\":{\"entryId\":\"1\",\"categoryName\":\"\\\\ud06c\\\\ub864\\\\ub9c1\",\"categoryId\":\"836119\",\"author\":\"4727327\",\"authorId\":\"4727327\",\"image\":\"4727327\",\"plink\":\"\\\\/1\",\"tags\":[],\"key\":\"4442027-1\"},\"sentryDsn\":\"https:\\\\/\\\\/a53520229cd744e798d42900d76b0e2a@aem-collector.daumkakao.io\\\\/713\",\"kakaoAppKey\":\"b8aef3eeb03fa312b81795386484f051\",\"appUserId\":null};</script>\\n            <script type=\"text/javascript\" src=\"https://t1.daumcdn.net/tistory_admin/assets/blog/tistory-bd96dd17334b8ce2f37206f86a83458bf1d3362c/blogs/script/tiara/tiara.min.js?_version_=tistory-bd96dd17334b8ce2f37206f86a83458bf1d3362c\" defer></script>\\n                        <script type=\"text/javascript\">\\n                window.roosevelt_params_queue = window.roosevelt_params_queue || [{channel_id: \\'dk\\', channel_label: \\'tistory\\'}];\\n            </script>\\n            <script type=\"text/javascript\" src=\"//t1.daumcdn.net/midas/rt/dk_bt/roosevelt_dk_bt.js\" async></script><script type=\"text/javascript\">if(window.console!=undefined){setTimeout(console.log.bind(console,\"%cTISTORY\",\"font:8em Arial;color:#EC6521;font-weight:bold\"),0);setTimeout(console.log.bind(console,\"%c  \\xeb\\x82\\x98\\xeb\\xa5\\xbc \\xed\\x91\\x9c\\xed\\x98\\x84\\xed\\x95\\x98\\xeb\\x8a\\x94 \\xeb\\xb8\\x94\\xeb\\xa1\\x9c\\xea\\xb7\\xb8\",\"font:2em sans-serif;color:#333;\"),0);}</script><iframe style=\"position:absolute;width:1px;height:1px;left:-100px;top:-100px\" src=\"//ai-dev.tistory.com/api\" id=\"editEntry\"></iframe><div id=\"tistoryEtcLayer\" class=\"layer_post\"></div><div id=\"tistorySnsLayer\" class=\"layer_post\"></div></body>\\n</html>\\n'\n"
     ]
    }
   ],
   "source": [
    "print(html.read())"
   ]
  },
  {
   "cell_type": "markdown",
   "metadata": {},
   "source": [
    "# 제목 추출하기"
   ]
  },
  {
   "cell_type": "code",
   "execution_count": 3,
   "metadata": {},
   "outputs": [],
   "source": [
    "from urllib.request import urlopen\n",
    "from bs4 import BeautifulSoup \n",
    "\n",
    "url = \"https://ai-dev.tistory.com/1\"\n",
    "html = urlopen(url)\n",
    "bs_obj = BeautifulSoup(html, \"html.parser\")"
   ]
  },
  {
   "cell_type": "code",
   "execution_count": 4,
   "metadata": {},
   "outputs": [
    {
     "name": "stdout",
     "output_type": "stream",
     "text": [
      "<!DOCTYPE html>\n",
      "\n",
      "<html lang=\"ko\">\n",
      "<head>\n",
      "<link href=\"https://t1.daumcdn.net/tistory_admin/lib/lightbox/css/lightbox.min.css\" rel=\"stylesheet\" type=\"text/css\"/><link href=\"https://t1.daumcdn.net/tistory_admin/assets/blog/tistory-bd96dd17334b8ce2f37206f86a83458bf1d3362c/blogs/style/content/font.css?_version_=tistory-bd96dd17334b8ce2f37206f86a83458bf1d3362c\" rel=\"stylesheet\" type=\"text/css\"/><link href=\"https://t1.daumcdn.net/tistory_admin/assets/blog/tistory-bd96dd17334b8ce2f37206f86a83458bf1d3362c/blogs/style/content/content.css?_version_=tistory-bd96dd17334b8ce2f37206f86a83458bf1d3362c\" rel=\"stylesheet\" type=\"text/css\"/><!--[if lt IE 9]><script src=\"https://t1.daumcdn.net/tistory_admin/lib/jquery/jquery-1.12.4.min.js\"></script><![endif]--><!--[if gte IE 9]>\n",
      "<!--><script src=\"https://t1.daumcdn.net/tistory_admin/lib/jquery/jquery-3.2.1.min.js\"></script><!--<![endif]-->\n",
      "<script src=\"https://t1.daumcdn.net/tistory_admin/lib/lightbox/js/lightbox-plus-jquery.min.js\"></script>\n",
      "<script>\n",
      "lightbox.options.fadeDuration = 200;\n",
      "lightbox.options.resizeDuration = 200;\n",
      "lightbox.options.wrapAround = false;\n",
      "lightbox.options.albumLabel = \"%1 / %2\";\n",
      "</script>\n",
      "<script>var tjQuery = jQuery.noConflict(true);</script><style type=\"text/css\">.tt_article_useless_p_margin p {padding-top:0 !important;padding-bottom:0 !important;margin-top:0 !important;margin-bottom:0 !important;}</style><meta content=\"always\" name=\"referrer\"/><link href=\"//t1.daumcdn.net/tistory_admin/static/top/favicon_0630.ico\" rel=\"icon\"/><link href=\"//img1.daumcdn.net/thumb/C180x180/?fname=https%3A%2F%2Ft1.daumcdn.net%2Fcfile%2Ftistory%2F241F093D5701E73803\" rel=\"apple-touch-icon\"/>\n",
      "<link href=\"//img1.daumcdn.net/thumb/C76x76/?fname=https%3A%2F%2Ft1.daumcdn.net%2Fcfile%2Ftistory%2F241F093D5701E73803\" rel=\"apple-touch-icon\" sizes=\"76x76\"/>\n",
      "<link href=\"//img1.daumcdn.net/thumb/C120x120/?fname=https%3A%2F%2Ft1.daumcdn.net%2Fcfile%2Ftistory%2F241F093D5701E73803\" rel=\"apple-touch-icon\" sizes=\"120x120\"/>\n",
      "<link href=\"//img1.daumcdn.net/thumb/C152x152/?fname=https%3A%2F%2Ft1.daumcdn.net%2Fcfile%2Ftistory%2F241F093D5701E73803\" rel=\"apple-touch-icon\" sizes=\"152x152\"/>\n",
      "<meta content=\"ca-host-pub-9691043933427338\" name=\"google-adsense-platform-account\"/>\n",
      "<meta content=\"tistory.com\" name=\"google-adsense-platform-domain\"/>\n",
      "<meta content=\"Hello, world!\" name=\"description\"/>\n",
      "<!-- BEGIN OPENGRAPH -->\n",
      "<link href=\"https://ai-dev.tistory.com/1\" rel=\"canonical\"><meta content=\"article\" property=\"og:type\"/><meta content=\"https://ai-dev.tistory.com/1\" property=\"og:url\"/><meta content=\"로스카츠\" property=\"og:article:author\"/><meta content=\"인공지능 개발의 모든 것\" property=\"og:site_name\"/><meta content=\"크롤링의 세계에 오신 것을 환영합니다.\" property=\"og:title\"/><meta content=\"로스카츠\" name=\"by\"/><meta content=\"Hello, world!\" property=\"og:description\"/><meta content=\"https://t1.daumcdn.net/tistory_admin/static/images/openGraph/opengraph.png\" property=\"og:image\"/>\n",
      "<!-- END OPENGRAPH -->\n",
      "<!-- BEGIN TWITTERCARD -->\n",
      "<meta content=\"summary_large_image\" name=\"twitter:card\"/><meta content=\"@TISTORY\" name=\"twitter:site\"/><meta content=\"크롤링의 세계에 오신 것을 환영합니다.\" name=\"twitter:title\"/><meta content=\"Hello, world!\" name=\"twitter:description\"/><meta content=\"https://t1.daumcdn.net/tistory_admin/static/images/openGraph/opengraph.png\" property=\"twitter:image\"/>\n",
      "<!-- END TWITTERCARD -->\n",
      "<!-- BEGIN DAUMAPP -->\n",
      "<meta content=\"https://ai-dev.tistory.com/1\" property=\"dg:plink\"/><meta content=\"https://ai-dev.tistory.com/1\" name=\"plink\"/><meta content=\"크롤링의 세계에 오신 것을 환영합니다.\" name=\"title\"/><meta content=\"인공지능 개발의 모든 것\" name=\"article:media_name\"/><meta content=\"https://ai-dev.tistory.com/m/1\" property=\"article:mobile_url\"/><meta content=\"https://ai-dev.tistory.com/1\" property=\"article:pc_url\"/><meta content=\"https://ai-dev.tistory.com/m/1\" property=\"article:mobile_view_url\"/><meta content=\"https://ai-dev.tistory.com/1\" property=\"article:pc_view_url\"/><meta content=\"https://ai-dev.tistory.com/m/1\" property=\"article:talk_channel_view_url\"/><meta content=\"https://www.tistory.com\" property=\"article:pc_service_home\"/><meta content=\"https://www.tistory.com/m\" property=\"article:mobile_service_home\"/><meta content=\"4442027_1\" property=\"article:txid\"><meta content=\"2021-01-21T14:06:56+09:00\" property=\"article:published_time\"/><meta content=\"20210121140656\" property=\"og:regDate\"/><meta content=\"2021-01-21T14:06:56+09:00\" property=\"article:modified_time\"/>\n",
      "<!-- END DAUMAPP -->\n",
      "<!-- BEGIN STRUCTURED_DATA -->\n",
      "<script type=\"application/ld+json\">{\"@context\":\"http:\\/\\/schema.org\",\"@type\":\"BlogPosting\",\"mainEntityOfPage\":{\"@id\":\"https:\\/\\/ai-dev.tistory.com\\/1\"},\"url\":\"https:\\/\\/ai-dev.tistory.com\\/1\",\"headline\":\"\\ud06c\\ub864\\ub9c1\\uc758 \\uc138\\uacc4\\uc5d0 \\uc624\\uc2e0 \\uac83\\uc744 \\ud658\\uc601\\ud569\\ub2c8\\ub2e4.\",\"description\":\"Hello, world!\",\"author\":{\"@type\":\"Person\",\"name\":\"\\ub85c\\uc2a4\\uce74\\uce20\"},\"image\":{\"@type\":\"ImageObject\",\"url\":\"https:\\/\\/t1.daumcdn.net\\/tistory_admin\\/static\\/images\\/openGraph\\/opengraph.png\",\"width\":\"800px\",\"height\":\"800px\"},\"datePublished\":\"20210121T14:06:56+09:00\",\"dateModified\":\"20210121T14:06:56+09:00\",\"publisher\":{\"@type\":\"Organization\",\"name\":\"TISTORY\",\"logo\":{\"@type\":\"ImageObject\",\"url\":\"https:\\/\\/t1.daumcdn.net\\/tistory_admin\\/static\\/images\\/openGraph\\/opengraph.png\",\"width\":\"800px\",\"height\":\"800px\"}}}</script><meta content=\"max-image-preview:large\" name=\"robots\"/>\n",
      "<!-- END STRUCTURED_DATA -->\n",
      "<meta charset=\"utf-8\"/>\n",
      "<meta content=\"user-scalable=no, initial-scale=1.0, maximum-scale=1.0, minimum-scale=1.0, width=device-width\" name=\"viewport\"/>\n",
      "<title>크롤링의 세계에 오신 것을 환영합니다.</title>\n",
      "<link href=\"https://tistory1.daumcdn.net/tistory/0/pg_Poster/style.css\" rel=\"stylesheet\"/>\n",
      "<script src=\"//t1.daumcdn.net/tistory_admin/lib/jquery/jquery-1.12.4.min.js\"></script>\n",
      "<style type=\"text/css\">\n",
      "\t\t#daumSearchBox {\n",
      "\t\t\theight: 21px;\n",
      "\t\t\tbackground-image : url(//i1.daumcdn.net/imgsrc.search/search_all/show/tistory/plugin/bg_search2_2.gif);\n",
      "\t\t\tmargin: 5px auto ;\n",
      "\t\t\tpadding: 0;\n",
      "\t\t}\n",
      "\t\t#daumSearchBox input {\n",
      "\t\t\tbackground: none;\n",
      "\t\t\tmargin : 0;\n",
      "\t\t\tpadding : 0;\n",
      "\t\t\tborder : 0;\n",
      "\t\t}\n",
      "\t\t#daumSearchBox #daumLogo {\n",
      "\t\t\twidth: 34px;\n",
      "\t\t\theight: 21px;\n",
      "\t\t\tfloat: left;\n",
      "\t\t\tmargin-right: 5px;\n",
      "\t\t\tbackground-image : url(//i1.daumcdn.net/img-media/tistory/img/bg_search1_2_2010ci.gif);\n",
      "\t\t}\n",
      "\t\t#daumSearchBox #show_q {\n",
      "\t\t\tbackground-color: transparent;\n",
      "\t\t\tborder: none;\n",
      "\t\t\tfont: 12px Gulim, Sans-serif;\n",
      "\t\t\tcolor: #555;\n",
      "\t\t\tmargin-top: 4px;\n",
      "\t\t\tmargin-right: 15px;\n",
      "\t\t\tfloat: left;\n",
      "\t\t}\n",
      "\n",
      "\t\t#daumSearchBox #show_btn {\n",
      "\t\t\tbackground-image : url(//i1.daumcdn.net/imgsrc.search/search_all/show/tistory/plugin/bt_search_2.gif);\n",
      "\t\t\twidth: 37px;\n",
      "\t\t\theight: 21px;\n",
      "\t\t\tfloat: left;\n",
      "\t\t\tmargin:0;\n",
      "\t\t\tcursor:pointer;\n",
      "\t\t\ttext-indent:-1000em;\n",
      "\t\t}\n",
      "\t</style>\n",
      "<link href=\"https://t1.daumcdn.net/tistory_admin/assets/blog/tistory-bd96dd17334b8ce2f37206f86a83458bf1d3362c/blogs/plugins/TistoryProfileLayer/style.css?_version_=tistory-bd96dd17334b8ce2f37206f86a83458bf1d3362c\" rel=\"stylesheet\" type=\"text/css\">\n",
      "<script src=\"https://t1.daumcdn.net/tistory_admin/assets/blog/tistory-bd96dd17334b8ce2f37206f86a83458bf1d3362c/blogs/plugins/TistoryProfileLayer/profile.js?_version_=tistory-bd96dd17334b8ce2f37206f86a83458bf1d3362c\" type=\"text/javascript\"></script>\n",
      "<style type=\"text/css\">\n",
      "\t\t.another_category { border: 1px solid #E5E5E5; padding: 10px 10px 5px; margin:10px 0; clear: both; }\n",
      "\t\t.another_category h4 { font-size: 12px !important; margin: 0 !important; border-bottom: 1px solid #E5E5E5 !important; padding: 2px 0 6px !important; }\n",
      "\t\t.another_category h4 a { font-weight: bold !important; }\n",
      "\t\t.another_category table { table-layout: fixed; border-collapse: collapse; width: 100% !important; margin-top: 10px !important; }\n",
      "\t\t* html .another_category table { width: auto !important; }\n",
      "\t\t*:first-child+html .another_category table { width: auto !important; }\n",
      "\t\t.another_category th, .another_category td { padding: 0 0 4px !important; }\n",
      "\t\t.another_category th { text-align: left; font-size: 12px !important; font-weight: normal;  word-break: break-all; overflow: hidden; line-height: 1.5; }\n",
      "\t\t.another_category td { text-align: right; width: 80px; font-size: 11px; }\n",
      "\t\t.another_category th a { font-weight: normal; text-decoration: none; border: none !important; }\n",
      "\t\t.another_category th a.current{ font-weight: bold; text-decoration: none !important; border-bottom: 1px solid !important; }\n",
      "\t\t.another_category th span { font-weight: normal; text-decoration: none; font: 10px Tahoma, Sans-serif; border: none !important; }\n",
      "\n",
      "\t\t.another_category_color_gray, .another_category_color_gray h4 { border-color: #E5E5E5 !important; }\n",
      "\t\t.another_category_color_gray * { color: #909090 !important; }\n",
      "\t\t.another_category_color_gray th a.current{border-color:#909090 !important;}\n",
      "\t\t.another_category_color_gray h4, .another_category_color_gray h4 a { color: #737373 !important; }\n",
      "\n",
      "\n",
      "\t\t.another_category_color_red, .another_category_color_red h4 { border-color: #F6D4D3 !important;  }\n",
      "\t\t.another_category_color_red * { color: #E86869 !important; }\n",
      "\t\t.another_category_color_red th a.current{border-color:#E86869 !important;}\n",
      "\t\t.another_category_color_red h4, .another_category_color_red h4 a { color: #ED0908 !important; }\n",
      "\n",
      "\n",
      "\t\t.another_category_color_green, .another_category_color_green h4 { border-color: #CCE7C8 !important; }\n",
      "\t\t.another_category_color_green * { color: #64C05B !important; }\n",
      "\t\t.another_category_color_green th a.current{border-color:#64C05B !important;}\n",
      "\t\t.another_category_color_green h4, .another_category_color_green h4 a { color: #3EA731 !important; }\n",
      "\n",
      "\n",
      "\t\t.another_category_color_blue, .another_category_color_blue h4 { border-color: #C8DAF2 !important; }\n",
      "\t\t.another_category_color_blue * { color: #477FD6 !important; }\n",
      "\t\t.another_category_color_blue th a.current{border-color:#477FD6 !important;}\n",
      "\t\t.another_category_color_blue h4, .another_category_color_blue h4 a { color: #1960CA !important; }\n",
      "\n",
      "\n",
      "\t\t.another_category_color_violet, .another_category_color_violet h4 { border-color: #E1CEEC !important;  }\n",
      "\t\t.another_category_color_violet * { color:#9D64C5 !important; }\n",
      "\t\t.another_category_color_violet th a.current{border-color:#9D64C5 !important;}\n",
      "\t\t.another_category_color_violet h4, .another_category_color_violet h4 a { color: #7E2CB5 !important; }\n",
      "\t</style>\n",
      "<script type=\"text/javascript\">\n",
      "        \n",
      "        window.TistoryBlog = {\n",
      "            basePath: \"\",\n",
      "            url: \"https://ai-dev.tistory.com\",\n",
      "            tistoryUrl: \"https://ai-dev.tistory.com\",\n",
      "\t\t\tmanageUrl: 'https://ai-dev.tistory.com/manage',\n",
      "            token: 'FINcdJKnbwpv+IehtTxWbg=='\n",
      "        };\n",
      "        var servicePath = \"\";\n",
      "        var blogURL = \"\";\n",
      "    </script>\n",
      "<script> (function() { window.orgjQuery = window.jQuery; window.jQuery = tjQuery })()</script>\n",
      "<script defer=\"\" src=\"https://t1.daumcdn.net/tistory_admin/assets/blog/tistory-bd96dd17334b8ce2f37206f86a83458bf1d3362c/blogs/script/reaction/reaction-button-container.min.js?_version_=tistory-bd96dd17334b8ce2f37206f86a83458bf1d3362c\" type=\"text/javascript\"></script>\n",
      "<script> (function() { window.jQuery = window.orgjQuery; delete window.orgjQuery })()</script>\n",
      "<script src=\"https://t1.daumcdn.net/tistory_admin/assets/blog/tistory-bd96dd17334b8ce2f37206f86a83458bf1d3362c/blogs/script/_/base.js?_version_=tistory-bd96dd17334b8ce2f37206f86a83458bf1d3362c\" type=\"text/javascript\"></script>\n",
      "<link href=\"https://t1.daumcdn.net/tistory_admin/assets/blog/tistory-bd96dd17334b8ce2f37206f86a83458bf1d3362c/blogs/style/dialog.css?_version_=tistory-bd96dd17334b8ce2f37206f86a83458bf1d3362c\" rel=\"stylesheet\" type=\"text/css\">\n",
      "<link href=\"//t1.daumcdn.net/tistory_admin/www/style/top/font.css\" rel=\"stylesheet\" type=\"text/css\"/>\n",
      "<link href=\"https://t1.daumcdn.net/tistory_admin/assets/blog/tistory-bd96dd17334b8ce2f37206f86a83458bf1d3362c/blogs/style/postBtn.css?_version_=tistory-bd96dd17334b8ce2f37206f86a83458bf1d3362c\" rel=\"stylesheet\" type=\"text/css\">\n",
      "<link href=\"https://t1.daumcdn.net/tistory_admin/assets/blog/tistory-bd96dd17334b8ce2f37206f86a83458bf1d3362c/blogs/style/component/tistory.css?_version_=tistory-bd96dd17334b8ce2f37206f86a83458bf1d3362c\" rel=\"stylesheet\" type=\"text/css\">\n",
      "<script src=\"//developers.kakao.com/sdk/js/kakao.min.js\" type=\"text/javascript\"></script></link></link></link></link></meta></link></head>\n",
      "<body class=\"color-gray post-type-text paging-view-more\" id=\"tt-body-page\">\n",
      "<script type=\"text/javascript\">\n",
      "\t(function() {\n",
      "\t\tif (!window.T) {\n",
      "\t\t\twindow.T = {}\n",
      "\t\t}\n",
      "\t\twindow.T.config = {\"TOP_SSL_URL\":\"https:\\/\\/www.tistory.com\",\"PREVIEW\":false,\"ROLE\":\"guest\",\"PREV_PAGE\":\"\\/2\",\"NEXT_PAGE\":\"\",\"BLOG\":{\"isDormancy\":false,\"title\":\"\\uc778\\uacf5\\uc9c0\\ub2a5 \\uac1c\\ubc1c\\uc758 \\ubaa8\\ub4e0 \\uac83\"},\"NEED_COMMENT_LOGIN\":false,\"COMMENT_LOGIN_CONFIRM_MESSAGE\":\"\",\"LOGIN_URL\":\"https:\\/\\/www.tistory.com\\/auth\\/login\\/?redirectUrl=http%3A%2F%2Fai-dev.tistory.com%2F1\",\"DEFAULT_URL\":\"https:\\/\\/ai-dev.tistory.com\",\"USER\":{\"name\":null,\"homepage\":null},\"ROLE_GROUP\":\"visitor\",\"SUBSCRIPTION\":{\"status\":\"none\",\"isConnected\":false,\"isProcessing\":false,\"isPending\":false,\"isWait\":false,\"isNone\":true},\"IS_LOGIN\":false,\"HAS_BLOG\":false,\"TOP_URL\":\"https:\\/\\/www.tistory.com\",\"JOIN_URL\":\"https:\\/\\/www.tistory.com\\/member\\/join\"};\n",
      "\t\twindow.appInfo = {\"domain\":\"tistory.com\",\"topUrl\":\"https:\\/\\/www.tistory.com\",\"loginUrl\":\"https:\\/\\/www.tistory.com\\/auth\\/login\",\"logoutUrl\":\"https:\\/\\/www.tistory.com\\/auth\\/logout\"};\n",
      "\n",
      "        window.initData = {};\n",
      "        \n",
      "\t})();\n",
      "</script>\n",
      "<script src=\"https://t1.daumcdn.net/tistory_admin/assets/blog/tistory-bd96dd17334b8ce2f37206f86a83458bf1d3362c/blogs/script/blog/common.js?_version_=tistory-bd96dd17334b8ce2f37206f86a83458bf1d3362c\" type=\"text/javascript\"></script>\n",
      "<div style=\"margin:0; padding:0; border:none; background:none; float:none; clear:none; z-index:0\"></div>\n",
      "<div id=\"acc-nav\">\n",
      "<a href=\"#content\">본문 바로가기</a>\n",
      "</div>\n",
      "<div id=\"wrap\">\n",
      "<header id=\"header\">\n",
      "<h1><a href=\"/\">인공지능 개발의 모든 것</a></h1>\n",
      "<button class=\"mobile-menu\" type=\"button\"><span>메뉴</span></button>\n",
      "<div class=\"menu\">\n",
      "<nav id=\"gnb\">\n",
      "<ul class=\"tt_category\">\n",
      "<li class=\"\">\n",
      "<a class=\"link_tit\" href=\"/category\">\n",
      "\t\t\t분류 전체보기\t\t\t\t\t\t\t<span class=\"c_cnt\">(2)</span>\n",
      "<img alt=\"N\" src=\"https://t1.daumcdn.net/tistory_admin/assets/blog/tistory-bd96dd17334b8ce2f37206f86a83458bf1d3362c/blogs/image/category/new_ico_5.gif?_version_=tistory-bd96dd17334b8ce2f37206f86a83458bf1d3362c\" style=\"vertical-align:middle;padding-left:2px;\"/>\n",
      "</a>\n",
      "<ul class=\"category_list\">\n",
      "<li class=\"\">\n",
      "<a class=\"link_item\" href=\"/category/%ED%81%AC%EB%A1%A4%EB%A7%81\">\n",
      "\t\t\t\t\t\t크롤링\t\t\t\t\t\t\t\t\t\t\t\t\t<span class=\"c_cnt\">(2)</span>\n",
      "<img alt=\"N\" src=\"https://t1.daumcdn.net/tistory_admin/assets/blog/tistory-bd96dd17334b8ce2f37206f86a83458bf1d3362c/blogs/image/category/new_ico_5.gif?_version_=tistory-bd96dd17334b8ce2f37206f86a83458bf1d3362c\" style=\"vertical-align:middle;padding-left:2px;\"/>\n",
      "</a>\n",
      "</li>\n",
      "</ul>\n",
      "</li>\n",
      "</ul>\n",
      "</nav>\n",
      "<div class=\"social-link\">\n",
      "</div>\n",
      "<p>POWERED BY TISTORY</p>\n",
      "</div>\n",
      "<div class=\"search\">\n",
      "<input name=\"search\" onkeypress=\"if (event.keyCode == 13) { try{window.location.href='/search/'+looseURIEncode(document.getElementsByName('search')[0].value);document.getElementsByName('search')[0].value='';return false;}catch(e){} }\" placeholder=\"검색내용을 입력하세요.\" type=\"text\" value=\"\"/>\n",
      "<button onclick=\"try{window.location.href='/search/'+looseURIEncode(document.getElementsByName('search')[0].value);document.getElementsByName('search')[0].value='';return false;}catch(e){}\" type=\"submit\">검색</button>\n",
      "</div>\n",
      "</header>\n",
      "<hr/>\n",
      "<section class=\"container\">\n",
      "<article id=\"content\">\n",
      "<div class=\"inner\">\n",
      "<div class=\"hgroup\">\n",
      "<div class=\"category\">크롤링</div>\n",
      "<h1>크롤링의 세계에 오신 것을 환영합니다. </h1>\n",
      "<div class=\"post-meta\">\n",
      "<span class=\"author\">로스카츠</span>\n",
      "<span class=\"date\">2021. 1. 21. 14:06</span>\n",
      "</div>\n",
      "</div>\n",
      "<div class=\"entry-content\">\n",
      "<div class=\"tt_article_useless_p_margin contents_style\"><p>Hello, world!</p><div class=\"container_postbtn #post_button_group\">\n",
      "<div class=\"postbtn_like\">\n",
      "<script>\n",
      "    window.ReactionButtonType = 'reaction';\n",
      "    window.ReactionApiUrl = '//ai-dev.tistory.com/reaction';\n",
      "    window.ReactionReqBody = {\n",
      "        entryId: 1    }\n",
      "</script>\n",
      "<div class=\"wrap_btn\" id=\"reaction-1\"></div>\n",
      "<script src=\"https://t1.daumcdn.net/tistory_admin/assets/blog/tistory-bd96dd17334b8ce2f37206f86a83458bf1d3362c/blogs/script/reaction/reaction-button-container.min.js?_version_=tistory-bd96dd17334b8ce2f37206f86a83458bf1d3362c\"></script>\n",
      "<div class=\"wrap_btn wrap_btn_share\">\n",
      "<button class=\"btn_post sns_btn btn_share\" data-blog-title=\"인공지능 개발의 모든 것\" data-description=\"Hello, world!\" data-pc-url=\"https://ai-dev.tistory.com/1\" data-profile-image=\"https://t1.daumcdn.net/tistory_admin/static/manage/images/r3/default_L.png\" data-profile-name=\"로스카츠\" data-relative-pc-url=\"/1\" data-thumbnail-url=\"https://t1.daumcdn.net/tistory_admin/static/images/openGraph/opengraph.png\" data-title=\"크롤링의 세계에 오신 것을 환영합니다.\" type=\"button\">\n",
      "<span class=\"ico_postbtn ico_share\">공유하기</span>\n",
      "</button>\n",
      "</div>\n",
      "<div class=\"wrap_btn wrap_btn_etc\" data-category-visibility=\"public\" data-entry-id=\"1\" data-entry-visibility=\"public\">\n",
      "<button class=\"btn_post btn_etc2\" type=\"button\"><span class=\"ico_postbtn ico_etc\">글 요소</span></button>\n",
      "</div>\n",
      "</div>\n",
      "<button class=\"btn_menu_toolbar btn_subscription #subscribe\" data-blog-id=\"4442027\" data-device=\"web_pc\" data-url=\"https://ai-dev.tistory.com/1\" type=\"button\">\n",
      "<em class=\"txt_state\">구독하기</em>\n",
      "<strong class=\"txt_tool_id\">인공지능 개발의 모든 것</strong>\n",
      "<span class=\"img_common_tistory ico_check_type1\"></span>\n",
      "</button>\n",
      "<div class=\"postbtn_ccl\" data-ccl-type=\"\">\n",
      "<a class=\"link_ccl\" href=\"https://creativecommons.org/licenses//4.0/deed.ko\" target=\"_blank\">\n",
      "<span class=\"bundle_ccl\">\n",
      "</span>\n",
      "</a>\n",
      "</div>\n",
      "<!--\n",
      "<rdf:RDF xmlns=\"http://web.resource.org/cc/\" xmlns:dc=\"http://purl.org/dc/elements/1.1/\" xmlns:rdf=\"http://www.w3.org/1999/02/22-rdf-syntax-ns#\">\n",
      "    <Work rdf:about=\"\">\n",
      "        <license rdf:resource=\"http://creativecommons.org/licenses/by-/2.0/kr/\" />\n",
      "    </Work>\n",
      "    <License rdf:about=\"http://creativecommons.org/licenses/by-/\">\n",
      "        <permits rdf:resource=\"http://web.resource.org/cc/Reproduction\"/>\n",
      "        <permits rdf:resource=\"http://web.resource.org/cc/Distribution\"/>\n",
      "        <requires rdf:resource=\"http://web.resource.org/cc/Notice\"/>\n",
      "        <requires rdf:resource=\"http://web.resource.org/cc/Attribution\"/>\n",
      "                    </License>\n",
      "</rdf:RDF>\n",
      "-->\n",
      "</div><div class=\"another_category another_category_color_gray\">\n",
      "<h4>'<a href=\"/category/크롤링\">크롤링</a>' 카테고리의 다른 글</h4>\n",
      "<table>\n",
      "<tr>\n",
      "<th>\n",
      "<a href=\"/2?category=836119\">크롤링 예제 페이지 - 02</a>  <span>(0)</span>\n",
      "</th>\n",
      "<td>\r\n",
      "00:12:35</td>\n",
      "</tr>\n",
      "<tr>\n",
      "<th>\n",
      "<a class=\"current\" href=\"/1?category=836119\">크롤링의 세계에 오신 것을 환영합니다.</a>  <span>(0)</span>\n",
      "</th>\n",
      "<td>\r\n",
      "2021.01.21</td>\n",
      "</tr>\n",
      "</table></div></div>\n",
      "</div>\n",
      "<div class=\"related-articles\">\n",
      "<h2><strong>'크롤링'</strong> Related Articles</h2>\n",
      "<ul>\n",
      "<li>\n",
      "<a href=\"/2?category=836119\">\n",
      "<span class=\"thum\">\n",
      "</span>\n",
      "<span class=\"title\">크롤링 예제 페이지 - 02</span>\n",
      "</a>\n",
      "</li>\n",
      "</ul>\n",
      "</div>\n",
      "<div id=\"entry1Comment\">\n",
      "<div class=\"comments\">\n",
      "<form action=\"/comment/add/1\" method=\"post\" onsubmit=\"return false\" style=\"margin: 0\">\n",
      "<div class=\"comment-form\">\n",
      "<div class=\"field\">\n",
      "<input name=\"name\" placeholder=\"이름\" type=\"text\" value=\"\"/>\n",
      "<input name=\"password\" placeholder=\"암호\" type=\"password\" value=\"\"/>\n",
      "<div class=\"secret\">\n",
      "<input id=\"secret\" name=\"secret\" type=\"checkbox\"/>\n",
      "<label for=\"secret\" tabindex=\"0\">Secret</label>\n",
      "</div>\n",
      "</div>\n",
      "<textarea cols=\"\" name=\"comment\" placeholder=\"여러분의 소중한 댓글을 입력해주세요.\" rows=\"4\"></textarea>\n",
      "<div class=\"submit\">\n",
      "<button class=\"btn\" onclick=\"addComment(this, 1); return false;\" type=\"submit\">댓글달기</button>\n",
      "</div>\n",
      "</div>\n",
      "</form>\n",
      "</div>\n",
      "</div><script type=\"text/javascript\">loadedComments[1]=true;findFragmentAndHighlight(1)</script>\n",
      "</div>\n",
      "<div class=\"pagination\">\n",
      "<a class=\"prev\" href=\"/2\">이전</a>\n",
      "<a href=\"/2\"><span>1</span></a>\n",
      "<a><span class=\"selected\">2</span></a>\n",
      "<a class=\"next no-more-next\">다음</a>\n",
      "</div>\n",
      "</article>\n",
      "</section>\n",
      "<hr/>\n",
      "<footer id=\"footer\">\n",
      "<p class=\"copyright\">DESIGN BY <a href=\"#\">TISTORY</a> <a class=\"admin\" href=\"https://ai-dev.tistory.com/manage\">관리자</a></p>\n",
      "</footer>\n",
      "</div>\n",
      "<script src=\"https://tistory1.daumcdn.net/tistory/0/pg_Poster/images/script.js\"></script>\n",
      "<script src=\"//search1.daumcdn.net/search/statics/common/js/g/search_dragselection.min.js\"></script>\n",
      "<script>\n",
      "\t    lightbox.option({\n",
      "\t\t\t\"fadeDuration\": 200,\n",
      "\t\t    \"resizeDuration\": 200,\n",
      "\t\t    \"wrapAround\": false,\n",
      "\t\t\t\"albumLabel\": \"%1 / %2\",\n",
      "\t\t\t\"fitImagesInViewport\":true ,\n",
      "\t\t\t\"stopEvent\": false\n",
      "\t    })\n",
      "\t</script> <script src=\"//t1.daumcdn.net/tiara/js/v1/tiara.min.js\" type=\"text/javascript\"></script>\n",
      "<script type=\"text/javascript\">window.tiara = {\"svcDomain\":\"user.tistory.com\",\"section\":\"\\uae00\\ubdf0\",\"trackPage\":\"\\uae00\\ubdf0_\\ubcf4\\uae30\",\"page\":\"\\uae00\\ubdf0\",\"key\":\"4442027-1\",\"customProps\":{\"userId\":0,\"blogId\":\"4442027\",\"role\":\"guest\",\"filterTarget\":false,\"trackPage\":\"\\uae00\\ubdf0_\\ubcf4\\uae30\",\"entryId\":\"1\"},\"entry\":{\"entryId\":\"1\",\"categoryName\":\"\\ud06c\\ub864\\ub9c1\",\"categoryId\":\"836119\",\"author\":\"4727327\",\"authorId\":\"4727327\",\"image\":\"4727327\",\"plink\":\"\\/1\",\"tags\":[],\"key\":\"4442027-1\"},\"sentryDsn\":\"https:\\/\\/a53520229cd744e798d42900d76b0e2a@aem-collector.daumkakao.io\\/713\",\"kakaoAppKey\":\"b8aef3eeb03fa312b81795386484f051\",\"appUserId\":null};</script>\n",
      "<script defer=\"\" src=\"https://t1.daumcdn.net/tistory_admin/assets/blog/tistory-bd96dd17334b8ce2f37206f86a83458bf1d3362c/blogs/script/tiara/tiara.min.js?_version_=tistory-bd96dd17334b8ce2f37206f86a83458bf1d3362c\" type=\"text/javascript\"></script>\n",
      "<script type=\"text/javascript\">\n",
      "                window.roosevelt_params_queue = window.roosevelt_params_queue || [{channel_id: 'dk', channel_label: 'tistory'}];\n",
      "            </script>\n",
      "<script async=\"\" src=\"//t1.daumcdn.net/midas/rt/dk_bt/roosevelt_dk_bt.js\" type=\"text/javascript\"></script><script type=\"text/javascript\">if(window.console!=undefined){setTimeout(console.log.bind(console,\"%cTISTORY\",\"font:8em Arial;color:#EC6521;font-weight:bold\"),0);setTimeout(console.log.bind(console,\"%c  나를 표현하는 블로그\",\"font:2em sans-serif;color:#333;\"),0);}</script><iframe id=\"editEntry\" src=\"//ai-dev.tistory.com/api\" style=\"position:absolute;width:1px;height:1px;left:-100px;top:-100px\"></iframe><div class=\"layer_post\" id=\"tistoryEtcLayer\"></div><div class=\"layer_post\" id=\"tistorySnsLayer\"></div></body>\n",
      "</html>\n",
      "\n"
     ]
    }
   ],
   "source": [
    "print(bs_obj)"
   ]
  },
  {
   "cell_type": "code",
   "execution_count": 5,
   "metadata": {},
   "outputs": [],
   "source": [
    "title = bs_obj.find_all(\"h1\")"
   ]
  },
  {
   "cell_type": "code",
   "execution_count": 6,
   "metadata": {},
   "outputs": [
    {
     "name": "stdout",
     "output_type": "stream",
     "text": [
      "[<h1><a href=\"/\">인공지능 개발의 모든 것</a></h1>, <h1>크롤링의 세계에 오신 것을 환영합니다. </h1>]\n"
     ]
    }
   ],
   "source": [
    "print(title)"
   ]
  },
  {
   "cell_type": "code",
   "execution_count": 7,
   "metadata": {},
   "outputs": [
    {
     "name": "stdout",
     "output_type": "stream",
     "text": [
      "<h1>크롤링의 세계에 오신 것을 환영합니다. </h1>\n"
     ]
    }
   ],
   "source": [
    "print(title[1])"
   ]
  },
  {
   "cell_type": "code",
   "execution_count": 8,
   "metadata": {},
   "outputs": [
    {
     "name": "stdout",
     "output_type": "stream",
     "text": [
      "크롤링의 세계에 오신 것을 환영합니다. \n"
     ]
    }
   ],
   "source": [
    "print(title[1].text)"
   ]
  },
  {
   "cell_type": "markdown",
   "metadata": {},
   "source": [
    "# 게시물 내용 추출하기"
   ]
  },
  {
   "cell_type": "code",
   "execution_count": 9,
   "metadata": {},
   "outputs": [],
   "source": [
    "contents = bs_obj.find_all(\"p\")"
   ]
  },
  {
   "cell_type": "code",
   "execution_count": 10,
   "metadata": {},
   "outputs": [
    {
     "name": "stdout",
     "output_type": "stream",
     "text": [
      "[<p>POWERED BY TISTORY</p>, <p>Hello, world!</p>, <p class=\"copyright\">DESIGN BY <a href=\"#\">TISTORY</a> <a class=\"admin\" href=\"https://ai-dev.tistory.com/manage\">관리자</a></p>]\n"
     ]
    }
   ],
   "source": [
    "print(contents)"
   ]
  },
  {
   "cell_type": "code",
   "execution_count": 11,
   "metadata": {},
   "outputs": [
    {
     "name": "stdout",
     "output_type": "stream",
     "text": [
      "<p>Hello, world!</p>\n"
     ]
    }
   ],
   "source": [
    "print(contents[1])"
   ]
  },
  {
   "cell_type": "code",
   "execution_count": 12,
   "metadata": {},
   "outputs": [
    {
     "name": "stdout",
     "output_type": "stream",
     "text": [
      "Hello, world!\n"
     ]
    }
   ],
   "source": [
    "print(contents[1].text)"
   ]
  },
  {
   "cell_type": "markdown",
   "metadata": {},
   "source": [
    "# 전체 코드"
   ]
  },
  {
   "cell_type": "code",
   "execution_count": 1,
   "metadata": {},
   "outputs": [
    {
     "name": "stdout",
     "output_type": "stream",
     "text": [
      "[<h1><a href=\"/\">인공지능 개발의 모든 것</a></h1>, <h1>크롤링의 세계에 오신 것을 환영합니다. </h1>]\n",
      "<h1>크롤링의 세계에 오신 것을 환영합니다. </h1>\n",
      "크롤링의 세계에 오신 것을 환영합니다. \n",
      "[<p>POWERED BY TISTORY</p>, <p>Hello, world!</p>, <p class=\"copyright\">DESIGN BY <a href=\"#\">TISTORY</a> <a class=\"admin\" href=\"https://ai-dev.tistory.com/manage\">관리자</a></p>]\n",
      "<p>Hello, world!</p>\n",
      "Hello, world!\n"
     ]
    }
   ],
   "source": [
    "from urllib.request import urlopen\n",
    "from bs4 import BeautifulSoup \n",
    "\n",
    "url = \"https://ai-dev.tistory.com/1?category=836119\"\n",
    "html = urlopen(url)\n",
    "bs_obj = BeautifulSoup(html, \"html.parser\")\n",
    "\n",
    "# 제목 추출\n",
    "title = bs_obj.find_all(\"h1\")\n",
    "print(title)\n",
    "print(title[1])\n",
    "print(title[1].text)\n",
    "\n",
    "# 본문 내용 추출\n",
    "contents = bs_obj.find_all(\"p\")\n",
    "print(contents)\n",
    "print(contents[1])\n",
    "print(contents[1].text)"
   ]
  },
  {
   "cell_type": "code",
   "execution_count": null,
   "metadata": {},
   "outputs": [],
   "source": []
  }
 ],
 "metadata": {
  "kernelspec": {
   "display_name": "python3_8_5",
   "language": "python",
   "name": "py3_8_5"
  },
  "language_info": {
   "codemirror_mode": {
    "name": "ipython",
    "version": 3
   },
   "file_extension": ".py",
   "mimetype": "text/x-python",
   "name": "python",
   "nbconvert_exporter": "python",
   "pygments_lexer": "ipython3",
   "version": "3.8.5"
  }
 },
 "nbformat": 4,
 "nbformat_minor": 4
}
