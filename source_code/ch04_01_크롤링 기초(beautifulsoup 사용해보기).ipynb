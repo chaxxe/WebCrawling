{
 "cells": [
  {
   "cell_type": "markdown",
   "metadata": {},
   "source": [
    "# 실습1"
   ]
  },
  {
   "cell_type": "code",
   "execution_count": 1,
   "metadata": {},
   "outputs": [],
   "source": [
    "from bs4 import BeautifulSoup "
   ]
  },
  {
   "cell_type": "code",
   "execution_count": 2,
   "metadata": {},
   "outputs": [],
   "source": [
    "html_doc = \"\"\"\n",
    "<!doctype html>\n",
    "<html>\n",
    "    <head> \n",
    "        <title> 기초 크롤링 </title> \n",
    "    </head>\n",
    "    <body> \n",
    "        크롤링을 해봅시다. \n",
    "    </body>\n",
    "</html>\n",
    "\"\"\""
   ]
  },
  {
   "cell_type": "code",
   "execution_count": 23,
   "metadata": {},
   "outputs": [
    {
     "name": "stdout",
     "output_type": "stream",
     "text": [
      "<head>\n",
      "<title> 기초 크롤링 </title>\n",
      "</head>\n"
     ]
    }
   ],
   "source": [
    "bs_obj = BeautifulSoup(html_doc, \"html.parser\")\n",
    "head = bs_obj.find(\"head\")\n",
    "print(head)"
   ]
  },
  {
   "cell_type": "code",
   "execution_count": 4,
   "metadata": {},
   "outputs": [
    {
     "name": "stdout",
     "output_type": "stream",
     "text": [
      "<body> \n",
      "        크롤링을 해봅시다. \n",
      "    </body>\n"
     ]
    }
   ],
   "source": [
    "body = bs_obj.find(\"body\")\n",
    "print(body)"
   ]
  },
  {
   "cell_type": "markdown",
   "metadata": {},
   "source": [
    "# 실습2"
   ]
  },
  {
   "cell_type": "code",
   "execution_count": 16,
   "metadata": {},
   "outputs": [],
   "source": [
    "html_doc = \"\"\"\n",
    "<!doctype html>\n",
    "<html>\n",
    "    <head> \n",
    "        기초 크롤링 따라하기 \n",
    "    </head>\n",
    "    <body> \n",
    "        <div> 첫 번째 부분 </div>\n",
    "        <div> 두 번째 부분 </div>\n",
    "    </body>\n",
    "</html>\n",
    "\"\"\""
   ]
  },
  {
   "cell_type": "code",
   "execution_count": 17,
   "metadata": {},
   "outputs": [
    {
     "name": "stdout",
     "output_type": "stream",
     "text": [
      "<body>\n",
      "<div> 첫 번째 부분 </div>\n",
      "<div> 두 번째 부분 </div>\n",
      "</body>\n"
     ]
    }
   ],
   "source": [
    "bs_obj = BeautifulSoup(html_doc, \"html.parser\")\n",
    "body = bs_obj.find(\"body\")\n",
    "print(body)"
   ]
  },
  {
   "cell_type": "code",
   "execution_count": 18,
   "metadata": {},
   "outputs": [
    {
     "name": "stdout",
     "output_type": "stream",
     "text": [
      "<div> 첫 번째 부분 </div>\n"
     ]
    }
   ],
   "source": [
    "div1 = bs_obj.find(\"div\")\n",
    "print(div1)"
   ]
  },
  {
   "cell_type": "code",
   "execution_count": 19,
   "metadata": {},
   "outputs": [
    {
     "name": "stdout",
     "output_type": "stream",
     "text": [
      "[<div> 첫 번째 부분 </div>, <div> 두 번째 부분 </div>]\n"
     ]
    }
   ],
   "source": [
    "div_total = bs_obj.find_all(\"div\")\n",
    "print(div_total)"
   ]
  },
  {
   "cell_type": "code",
   "execution_count": 9,
   "metadata": {},
   "outputs": [
    {
     "name": "stdout",
     "output_type": "stream",
     "text": [
      "<div> 두 번째 부분 </div>\n",
      " 두 번째 부분 \n"
     ]
    }
   ],
   "source": [
    "div2 = div_total[1]\n",
    "print(div2)\n",
    "print(div2.text)"
   ]
  },
  {
   "cell_type": "markdown",
   "metadata": {},
   "source": [
    "# 실습3: 속성 실습"
   ]
  },
  {
   "cell_type": "code",
   "execution_count": 21,
   "metadata": {},
   "outputs": [],
   "source": [
    "html_doc = \"\"\"\n",
    "<!doctype html>\n",
    "<html>\n",
    "    <head> \n",
    "        <title> 기초 크롤링 </title> \n",
    "    </head>\n",
    "    <body> \n",
    "        <table border=\"1\">\n",
    "            <caption> 과일 가격 </caption>\n",
    "            <tr>\n",
    "                <th> 상품 </th>\n",
    "                <th> 가격 </th>\n",
    "            </tr>\n",
    "            <tr>\n",
    "                <td> 오렌지 </td>\n",
    "                <td> 100 </td>\n",
    "            <//tr>\n",
    "            <tr>\n",
    "                <td> 사과 </td>\n",
    "                <td> 150 </td>\n",
    "            </tr>\n",
    "        </table>\n",
    "\n",
    "        <table border=\"2\">\n",
    "            <caption> 의류 가격 </caption>\n",
    "            <tr>\n",
    "                <th> 상품 </th>\n",
    "                <th> 가격 </th>\n",
    "            </tr>\n",
    "            <tr>\n",
    "                <td> 셔츠 </td>\n",
    "                <td> 30000 </td>\n",
    "            </tr>\n",
    "            <tr>\n",
    "                <td> 바지 </td>\n",
    "                <td> 50000 </td>\n",
    "            </tr>\n",
    "        </table>\n",
    "        </body>\n",
    "</html>\n",
    "\"\"\""
   ]
  },
  {
   "cell_type": "code",
   "execution_count": 22,
   "metadata": {},
   "outputs": [
    {
     "name": "stdout",
     "output_type": "stream",
     "text": [
      "[<table border=\"2\">\n",
      "<caption> 의류 가격 </caption>\n",
      "<tr>\n",
      "<th> 상품 </th>\n",
      "<th> 가격 </th>\n",
      "</tr>\n",
      "<tr>\n",
      "<td> 셔츠 </td>\n",
      "<td> 30000 </td>\n",
      "</tr>\n",
      "<tr>\n",
      "<td> 바지 </td>\n",
      "<td> 50000 </td>\n",
      "</tr>\n",
      "</table>]\n"
     ]
    }
   ],
   "source": [
    "bs_obj = BeautifulSoup(html_doc, \"html.parser\")\n",
    "clothes = bs_obj.find_all(\"table\", {\"border\":\"2\"})\n",
    "print(clothes)"
   ]
  }
 ],
 "metadata": {
  "kernelspec": {
   "display_name": "python3_8_5",
   "language": "python",
   "name": "py3_8_5"
  },
  "language_info": {
   "codemirror_mode": {
    "name": "ipython",
    "version": 3
   },
   "file_extension": ".py",
   "mimetype": "text/x-python",
   "name": "python",
   "nbconvert_exporter": "python",
   "pygments_lexer": "ipython3",
   "version": "3.8.5"
  }
 },
 "nbformat": 4,
 "nbformat_minor": 4
}
